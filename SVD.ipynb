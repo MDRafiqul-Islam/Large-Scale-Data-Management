{
  "nbformat": 4,
  "nbformat_minor": 0,
  "metadata": {
    "colab": {
      "provenance": [],
      "authorship_tag": "ABX9TyNA7qoskZBQtvKw3SDYUMTh",
      "include_colab_link": true
    },
    "kernelspec": {
      "name": "python3",
      "display_name": "Python 3"
    },
    "language_info": {
      "name": "python"
    }
  },
  "cells": [
    {
      "cell_type": "markdown",
      "metadata": {
        "id": "view-in-github",
        "colab_type": "text"
      },
      "source": [
        "<a href=\"https://colab.research.google.com/github/MDRafiqul-Islam/Large-Scale-Data-Management/blob/main/SVD.ipynb\" target=\"_parent\"><img src=\"https://colab.research.google.com/assets/colab-badge.svg\" alt=\"Open In Colab\"/></a>"
      ]
    },
    {
      "cell_type": "code",
      "execution_count": null,
      "metadata": {
        "id": "9xZTRKvPRKcR"
      },
      "outputs": [],
      "source": [
        "import math\n",
        "import numpy as np"
      ]
    },
    {
      "cell_type": "code",
      "source": [
        "def eye(n):\n",
        "  lst = [[] for _ in range(n)]\n",
        "  # Filling the main diagonal with ones and the rest with zeros\n",
        "  for i in range(n):\n",
        "    for j in range(n):\n",
        "      if i == j:\n",
        "        lst[i].append(1)\n",
        "      else:\n",
        "        lst[i].append(0)\n",
        "  #Converting the list to a NumPy array\n",
        "  return np.array(lst)"
      ],
      "metadata": {
        "id": "debHpRAoRNIb"
      },
      "execution_count": null,
      "outputs": []
    },
    {
      "cell_type": "markdown",
      "source": [
        "https://dspace.mit.edu/bitstream/handle/1721.1/75282/18-335j-fall-2006/contents/lecture-notes/lec16.pdf"
      ],
      "metadata": {
        "id": "8e_8ueWJ6-iS"
      }
    },
    {
      "cell_type": "markdown",
      "source": [
        "https://www.youtube.com/watch?v=d32WV1rKoVk&ab_channel=MITOpenCourseWare"
      ],
      "metadata": {
        "id": "ntnEJISO7VHM"
      }
    },
    {
      "cell_type": "markdown",
      "source": [
        "https://cse.buffalo.edu/faculty/miller/Courses/CSE633/Eric-Mikida-Fall-2011.pdf"
      ],
      "metadata": {
        "id": "kGWJjPIf7gBK"
      }
    },
    {
      "cell_type": "code",
      "source": [
        "def qr_algorithm(A):\n",
        "  n = A.shape[0]\n",
        "  Q = eye(n)\n",
        "\n",
        "  for i in range(n - 1):\n",
        "    # Computing the QR decomposition of the matrix A\n",
        "    R = np.zeros((n, n))\n",
        "    Q_i = np.zeros((n, n))\n",
        "\n",
        "    for j in range(n):\n",
        "      R[j, j] = np.sqrt(np.sum(A[:, j] ** 2))\n",
        "      Q_i[:, j] = A[:, j] / R[j, j]\n",
        "      R[j, i] = np.sum(Q_i[:, j] * A[:, i])\n",
        "      A[:, i] = A[:, i] - R[j, i] * Q_i[:, j]\n",
        "    \n",
        "    A = R @ Q_i\n",
        "    Q = Q @ Q_i\n",
        "  \n",
        "  # The eigenvalues of A are the diagonal elements of A\n",
        "  eigenvalues = np.diagonal(A)\n",
        "  \n",
        "  # The eigenvectors are the columns of Q\n",
        "  eigenvectors = Q\n",
        "  \n",
        "  return eigenvalues, eigenvectors"
      ],
      "metadata": {
        "id": "RYU3hqLnRPUh"
      },
      "execution_count": null,
      "outputs": []
    },
    {
      "cell_type": "code",
      "source": [
        "def svd(A):\n",
        "    m, n = len(A), len(A[0])\n",
        "    AtA = np.zeros((n, n))\n",
        "    for i in range(n):\n",
        "        for j in range(n):\n",
        "            for k in range(m):\n",
        "                AtA[i][j] += A[k][i]*A[k][j]\n",
        "    eigenvalues, eigenvectors = qr_algorithm(AtA)\n",
        "    singular_values = [np.sqrt(abs(eigenvalue)) for eigenvalue in eigenvalues]\n",
        "    V = np.zeros((n, n))\n",
        "    for i in range(n):\n",
        "        for j in range(n):\n",
        "            V[i][j] = eigenvectors[i][j]\n",
        "    U = np.zeros((n, m))\n",
        "    for i in range(n):\n",
        "        for j in range(m):\n",
        "            U[i][j] = A[j][i]/singular_values[i]\n",
        "    return U, singular_values, V"
      ],
      "metadata": {
        "id": "XTVKN7bMRSXR"
      },
      "execution_count": null,
      "outputs": []
    },
    {
      "cell_type": "code",
      "source": [
        "# Defining the matrix M\n",
        "r = int(input(\"Enter the number of rows: \"))\n",
        "c = int(input(\"Enter the number of columns: \"))\n",
        "if r != c:\n",
        "  raise ValueError('If the matrix M is not square, then it cannot be factorized using traditional matrix factorization techniques such as SVD or QR decomposition.')\n",
        "A = [[int(input('Please Input the number for position ({},{}): '.format(x, y))) for x in range(c)] for y in range(r)]\n",
        "M = np.array(A).reshape(r, c)\n",
        "# M = np.random.rand(12, 12)\n",
        "# Calculate the SVD of M\n",
        "U, S, Vt = svd(M) \n",
        "print(U)\n",
        "print(S)\n",
        "print(Vt)"
      ],
      "metadata": {
        "colab": {
          "base_uri": "https://localhost:8080/"
        },
        "id": "6EFr035mRVWw",
        "outputId": "0e1e6632-c8f7-47e9-fab3-1d41564148c4"
      },
      "execution_count": null,
      "outputs": [
        {
          "output_type": "stream",
          "name": "stdout",
          "text": [
            "Enter the number of rows: 3\n",
            "Enter the number of columns: 3\n",
            "Please Input the number for position (0,0): 1\n",
            "Please Input the number for position (1,0): 2\n",
            "Please Input the number for position (2,0): 3\n",
            "Please Input the number for position (0,1): 4\n",
            "Please Input the number for position (1,1): 5\n",
            "Please Input the number for position (2,1): 6\n",
            "Please Input the number for position (0,2): 7\n",
            "Please Input the number for position (1,2): 8\n",
            "Please Input the number for position (2,2): 9\n",
            "[[ 0.0792548   0.3170192   0.5547836 ]\n",
            " [ 4.44859073 11.12147682 17.79436292]\n",
            " [ 0.26726124  0.53452248  0.80178373]]\n",
            "[12.617532353748057, 0.44958057996200973, 11.224972160321823]\n",
            "[[ 0.80529302 -0.20994376  0.80329344]\n",
            " [ 0.96087876 -0.24420165  0.95855184]\n",
            " [ 1.1164645  -0.27845954  1.11381023]]\n"
          ]
        }
      ]
    },
    {
      "cell_type": "code",
      "source": [
        "# Calculating M1 and M2 from the SVD\n",
        "M1 = U @ S\n",
        "M2 = Vt\n",
        "\n",
        "print('M1 Value is: ',M1)\n",
        "print('M2 Value is: ',M2)"
      ],
      "metadata": {
        "colab": {
          "base_uri": "https://localhost:8080/"
        },
        "id": "SR3_mvX4Rax6",
        "outputId": "5af6c9a5-6806-4c39-909d-c938d1c93419"
      },
      "execution_count": null,
      "outputs": [
        {
          "output_type": "stream",
          "name": "stdout",
          "text": [
            "M1 Value is:  [  7.36995612 260.8714658   12.6124883 ]\n",
            "M2 Value is:  [[ 0.80529302 -0.20994376  0.80329344]\n",
            " [ 0.96087876 -0.24420165  0.95855184]\n",
            " [ 1.1164645  -0.27845954  1.11381023]]\n"
          ]
        }
      ]
    },
    {
      "cell_type": "markdown",
      "source": [
        "**Another way using eigh function**"
      ],
      "metadata": {
        "id": "PB8EqJ_EhPeW"
      }
    },
    {
      "cell_type": "code",
      "source": [
        "# import numpy as np\n",
        "# from scipy.linalg import eigh\n",
        "\n",
        "# r = int(input(\"Enter the number of rows: \"))\n",
        "# c = int(input(\"Enter the number of columns: \"))\n",
        "# if r != c:\n",
        "#   raise ValueError('If the matrix M is not square, then it cannot be factorized using traditional matrix factorization techniques such as SVD or QR decomposition.')\n",
        "# A = [[int(input('Please Input the number for position ({},{}): '.format(x, y))) for x in range(c)] for y in range(r)]\n",
        "# M = np.array(A).reshape(r, c)\n",
        "\n",
        "# M_T = M.T\n",
        "\n",
        "# MTM = np.dot(M_T, M)\n",
        "\n",
        "# eigenvalues, eigenvectors = eigh(MTM)\n",
        "\n",
        "# idx = eigenvalues.argsort()[::-1]\n",
        "# eigenvalues = eigenvalues[idx]\n",
        "# eigenvectors = eigenvectors[:,idx]\n",
        "\n",
        "# M1 = eigenvectors\n",
        "# M2 = np.diag(np.sqrt(eigenvalues))\n",
        "\n",
        "# M1 = U @ S\n",
        "# M2 = Vt\n",
        "\n",
        "# print('M1 Value is: ',M1)\n",
        "# print('M2 Value is: ',M2)\n"
      ],
      "metadata": {
        "id": "hKFJZ1Tfgts1"
      },
      "execution_count": null,
      "outputs": []
    }
  ]
}