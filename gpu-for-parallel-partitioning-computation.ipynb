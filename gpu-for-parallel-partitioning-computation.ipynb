{
 "cells": [
  {
   "cell_type": "code",
   "execution_count": 1,
   "id": "b78df3d3",
   "metadata": {
    "execution": {
     "iopub.execute_input": "2023-01-16T17:15:10.564730Z",
     "iopub.status.busy": "2023-01-16T17:15:10.564310Z",
     "iopub.status.idle": "2023-01-16T17:15:12.317218Z",
     "shell.execute_reply": "2023-01-16T17:15:12.316214Z"
    },
    "papermill": {
     "duration": 1.759792,
     "end_time": "2023-01-16T17:15:12.319902",
     "exception": false,
     "start_time": "2023-01-16T17:15:10.560110",
     "status": "completed"
    },
    "tags": []
   },
   "outputs": [],
   "source": [
    "import math\n",
    "import concurrent.futures\n",
    "import numpy as np\n",
    "import cupy as cp"
   ]
  },
  {
   "cell_type": "code",
   "execution_count": 2,
   "id": "6beb1c85",
   "metadata": {
    "execution": {
     "iopub.execute_input": "2023-01-16T17:15:12.325559Z",
     "iopub.status.busy": "2023-01-16T17:15:12.325222Z",
     "iopub.status.idle": "2023-01-16T17:15:12.330969Z",
     "shell.execute_reply": "2023-01-16T17:15:12.329814Z"
    },
    "papermill": {
     "duration": 0.010847,
     "end_time": "2023-01-16T17:15:12.333056",
     "exception": false,
     "start_time": "2023-01-16T17:15:12.322209",
     "status": "completed"
    },
    "tags": []
   },
   "outputs": [],
   "source": [
    "def eye(n):\n",
    "  lst = [[] for _ in range(n)]\n",
    "  for i in range(n):\n",
    "    for j in range(n):\n",
    "      if i == j:\n",
    "        lst[i].append(1)\n",
    "      else:\n",
    "        lst[i].append(0)\n",
    "  return cp.array(lst)\n"
   ]
  },
  {
   "cell_type": "code",
   "execution_count": 3,
   "id": "cad92dc7",
   "metadata": {
    "execution": {
     "iopub.execute_input": "2023-01-16T17:15:12.338243Z",
     "iopub.status.busy": "2023-01-16T17:15:12.337970Z",
     "iopub.status.idle": "2023-01-16T17:15:12.346593Z",
     "shell.execute_reply": "2023-01-16T17:15:12.345716Z"
    },
    "papermill": {
     "duration": 0.013536,
     "end_time": "2023-01-16T17:15:12.348552",
     "exception": false,
     "start_time": "2023-01-16T17:15:12.335016",
     "status": "completed"
    },
    "tags": []
   },
   "outputs": [],
   "source": [
    "def qr_algorithm(A):\n",
    "  if isinstance(A, np.ndarray):\n",
    "    A = cp.array(A)\n",
    "  n = A.shape[0]\n",
    "  Q = eye(n)\n",
    "\n",
    "  for i in range(n - 1):\n",
    "    R = cp.zeros((n, n))\n",
    "    Q_i = cp.zeros((n, n))\n",
    "\n",
    "    for j in range(n):\n",
    "      R[j, j] = cp.sqrt(cp.sum(A[:, j] ** 2))\n",
    "      Q_i[:, j] = A[:, j] / R[j, j]\n",
    "      R[j, i] = cp.sum(Q_i[:, j] * A[:, i])\n",
    "      A[:, i] = A[:, i] - R[j, i] * Q_i[:, j]\n",
    "    \n",
    "    A = R @ Q_i\n",
    "    Q = Q @ Q_i\n",
    "  \n",
    "  eigenvalues = cp.diagonal(A)\n",
    "    \n",
    "  eigenvectors = Q\n",
    "  \n",
    "  return eigenvalues, eigenvectors"
   ]
  },
  {
   "cell_type": "code",
   "execution_count": 4,
   "id": "6cea8e25",
   "metadata": {
    "execution": {
     "iopub.execute_input": "2023-01-16T17:15:12.353650Z",
     "iopub.status.busy": "2023-01-16T17:15:12.353391Z",
     "iopub.status.idle": "2023-01-16T17:15:12.358358Z",
     "shell.execute_reply": "2023-01-16T17:15:12.356826Z"
    },
    "papermill": {
     "duration": 0.009919,
     "end_time": "2023-01-16T17:15:12.360417",
     "exception": false,
     "start_time": "2023-01-16T17:15:12.350498",
     "status": "completed"
    },
    "tags": []
   },
   "outputs": [],
   "source": [
    "def compute_AtA_ij(i, j, m):\n",
    "  result = 0\n",
    "  for k in range(m):\n",
    "    result += A[k][i]*A[k][j]\n",
    "  return i, j, result"
   ]
  },
  {
   "cell_type": "code",
   "execution_count": 5,
   "id": "2e6327d6",
   "metadata": {
    "execution": {
     "iopub.execute_input": "2023-01-16T17:15:12.365483Z",
     "iopub.status.busy": "2023-01-16T17:15:12.365194Z",
     "iopub.status.idle": "2023-01-16T17:15:12.373811Z",
     "shell.execute_reply": "2023-01-16T17:15:12.372813Z"
    },
    "papermill": {
     "duration": 0.013523,
     "end_time": "2023-01-16T17:15:12.375896",
     "exception": false,
     "start_time": "2023-01-16T17:15:12.362373",
     "status": "completed"
    },
    "tags": []
   },
   "outputs": [],
   "source": [
    "def svd(A):\n",
    "  # Converting A to a CuPy array if it is a NumPy array\n",
    "  if isinstance(A, np.ndarray):\n",
    "    A = cp.array(A)\n",
    "  m, n = len(A), len(A[0])\n",
    "  AtA = cp.zeros((n, n))\n",
    "  \n",
    "  # Useing the ProcessPoolExecutor to parallelize the for loop\n",
    "  with concurrent.futures.ProcessPoolExecutor() as executor:\n",
    "    for i, j, result in executor.map(compute_AtA_ij, range(n), range(n), [m]*n*n, chunksize=2):\n",
    "      AtA[i][j] = result\n",
    "  \n",
    "  eigenvalues, eigenvectors = qr_algorithm(AtA)\n",
    "  singular_values = [math.sqrt(eigenvalue) for eigenvalue in eigenvalues]\n",
    "  U = cp.zeros((n, m))\n",
    "  for i in range(n):\n",
    "    for j in range(m):\n",
    "      U[i][j] = A[j][i]/singular_values[i]\n",
    "  V = np.zeros((n, n))\n",
    "  for i in range(n):\n",
    "    for j in range(n):\n",
    "      V[i][j] = eigenvectors[i][j]\n",
    "  V = cp.dot(U, cp.array(V))\n",
    "  S = cp.array(singular_values)\n",
    "  S_diag = cp.diag(S)\n",
    "  return U, S_diag, V"
   ]
  },
  {
   "cell_type": "code",
   "execution_count": 6,
   "id": "d784d8f9",
   "metadata": {
    "execution": {
     "iopub.execute_input": "2023-01-16T17:15:12.380930Z",
     "iopub.status.busy": "2023-01-16T17:15:12.380658Z",
     "iopub.status.idle": "2023-01-16T17:15:16.164543Z",
     "shell.execute_reply": "2023-01-16T17:15:16.161289Z"
    },
    "papermill": {
     "duration": 3.789853,
     "end_time": "2023-01-16T17:15:16.167693",
     "exception": false,
     "start_time": "2023-01-16T17:15:12.377840",
     "status": "completed"
    },
    "tags": []
   },
   "outputs": [
    {
     "name": "stdout",
     "output_type": "stream",
     "text": [
      "M1 Value is:  [2.08164054 2.04773417 2.57252242 2.45825321]\n",
      "M2 Value is:  [[0.65516238 0.09468172 0.73196849 0.16130638]\n",
      " [0.63405243 0.23581915 0.73595182 0.02723545]\n",
      " [0.53528836 0.38229936 0.57513086 0.48635179]\n",
      " [0.16737659 0.4496117  0.61230722 0.62842204]]\n"
     ]
    }
   ],
   "source": [
    "# Generating a random matrix\n",
    "A = np.random.rand(4, 4)\n",
    "# r = int(input(\"Enter the number of rows: \"))\n",
    "# c = int(input(\"Enter the number of columns: \"))\n",
    "\n",
    "# # if r != c:\n",
    "# #   raise ValueError('If the matrix M is not square, then it cannot be factorized using traditional matrix factorization techniques such as SVD or QR decomposition.')\n",
    "\n",
    "# A = [[int(input('Please Input the number for position ({},{}): '.format(x, y))) for x in range(c)] for y in range(r)]\n",
    "# M = np.array(A).reshape(r, c)\n",
    "\n",
    "U, S, Vt = svd(A) \n",
    "# Calculate M1 and M2 from the SVD\n",
    "M1 = cp.dot(U, cp.diag(S))\n",
    "M2 = Vt\n",
    "print('M1 Value is: ',M1)\n",
    "print('M2 Value is: ',M2)"
   ]
  }
 ],
 "metadata": {
  "kernelspec": {
   "display_name": "Python 3",
   "language": "python",
   "name": "python3"
  },
  "language_info": {
   "codemirror_mode": {
    "name": "ipython",
    "version": 3
   },
   "file_extension": ".py",
   "mimetype": "text/x-python",
   "name": "python",
   "nbconvert_exporter": "python",
   "pygments_lexer": "ipython3",
   "version": "3.7.12"
  },
  "papermill": {
   "default_parameters": {},
   "duration": 14.589858,
   "end_time": "2023-01-16T17:15:17.091815",
   "environment_variables": {},
   "exception": null,
   "input_path": "__notebook__.ipynb",
   "output_path": "__notebook__.ipynb",
   "parameters": {},
   "start_time": "2023-01-16T17:15:02.501957",
   "version": "2.3.4"
  }
 },
 "nbformat": 4,
 "nbformat_minor": 5
}
