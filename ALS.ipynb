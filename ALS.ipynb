{
  "nbformat": 4,
  "nbformat_minor": 0,
  "metadata": {
    "colab": {
      "provenance": [],
      "authorship_tag": "ABX9TyN8ca41Qq1hAVhhYE+7HSLf",
      "include_colab_link": true
    },
    "kernelspec": {
      "name": "python3",
      "display_name": "Python 3"
    },
    "language_info": {
      "name": "python"
    }
  },
  "cells": [
    {
      "cell_type": "markdown",
      "metadata": {
        "id": "view-in-github",
        "colab_type": "text"
      },
      "source": [
        "<a href=\"https://colab.research.google.com/github/MDRafiqul-Islam/Large-Scale-Data-Management/blob/main/ALS.ipynb\" target=\"_parent\"><img src=\"https://colab.research.google.com/assets/colab-badge.svg\" alt=\"Open In Colab\"/></a>"
      ]
    },
    {
      "cell_type": "code",
      "execution_count": null,
      "metadata": {
        "id": "IgHzYN4EUOZB"
      },
      "outputs": [],
      "source": [
        "import random\n",
        "import numpy as np\n",
        "import math"
      ]
    },
    {
      "cell_type": "code",
      "source": [
        "def transpose(M):\n",
        "  return [[M[j][i] for j in range(len(M))] for i in range(len(M[0]))]"
      ],
      "metadata": {
        "id": "bEUbdBJHUdTt"
      },
      "execution_count": null,
      "outputs": []
    },
    {
      "cell_type": "code",
      "source": [
        "def dot(u, v):\n",
        "  return sum(x * y for x, y in zip(u, v))"
      ],
      "metadata": {
        "id": "RG3SUGdAUie-"
      },
      "execution_count": null,
      "outputs": []
    },
    {
      "cell_type": "code",
      "source": [
        "# def my_enumerate(iterable):\n",
        "#   i = 0\n",
        "#   for item in iterable:\n",
        "#     yield i, item\n",
        "#     i += 1"
      ],
      "metadata": {
        "id": "jGrzMf93UjZ_"
      },
      "execution_count": null,
      "outputs": []
    },
    {
      "cell_type": "code",
      "source": [
        "def solve(A, b):\n",
        "  n, m = A.shape\n",
        "  M = np.column_stack((A, b))\n",
        "\n",
        "  for i in range(n):\n",
        "    # Find pivot\n",
        "    pivot = i\n",
        "    for j in range(i + 1, n):\n",
        "      if abs(M[j][i]) > abs(M[pivot][i]):\n",
        "        pivot = j\n",
        "\n",
        "    # Swaping rows\n",
        "    M[i], M[pivot] = M[pivot], M[i]\n",
        "\n",
        "    # Eliminating pivot column\n",
        "    for j in range(n):\n",
        "      if i != j:\n",
        "        M[j] -= M[j][i] * M[i]\n",
        "\n",
        "    # Dividing row by pivot element\n",
        "    for i in range(n):\n",
        "      if not math.isclose(M[i][i], 0):\n",
        "        M[i] /= M[i][i]\n",
        "\n",
        "  return M[:, m]"
      ],
      "metadata": {
        "id": "SHyrZCHAUl_5"
      },
      "execution_count": null,
      "outputs": []
    },
    {
      "cell_type": "code",
      "source": [
        "def least_squares(X, y):\n",
        "  XT = transpose(X)\n",
        "  w = np.linalg.solve(np.matmul(XT, X), np.matmul(XT, y))\n",
        "  #w = solve(np.matmul(XT, X), np.matmul(XT, y))\n",
        "  return w"
      ],
      "metadata": {
        "id": "nszzhBapUrIb"
      },
      "execution_count": null,
      "outputs": []
    },
    {
      "cell_type": "code",
      "source": [
        "def matrix_factorization(M, num_factors, max_iter=100, epsilon=1e-5):\n",
        "  # Initializing matrices U and V with random values\n",
        "  num_rows, num_cols = M.shape\n",
        "  U = [[random.random() for _ in range(num_factors)] for _ in range(num_rows)]\n",
        "  V = [[random.random() for _ in range(num_factors)] for _ in range(num_cols)]\n",
        "\n",
        "  # Performing ALS iterations\n",
        "  for _ in range(max_iter):\n",
        "    for j in range(num_cols):\n",
        "      V[j] = least_squares(U, M[:,j])\n",
        "    for i in range(num_rows):\n",
        "      U[i] = least_squares(V, M[i,:])\n",
        "\n",
        "    # Calculating the error\n",
        "    error = 0\n",
        "    for i in range(num_rows):\n",
        "      for j in range(num_cols):\n",
        "        error += (M[i][j] - dot(U[i], V[j])) ** 2\n",
        "    error = np.sqrt(error)\n",
        "\n",
        "    # Checking for convergence\n",
        "    if error < epsilon:\n",
        "      break\n",
        "\n",
        "  return U, V"
      ],
      "metadata": {
        "id": "SpEXUTuYUuBq"
      },
      "execution_count": null,
      "outputs": []
    },
    {
      "cell_type": "code",
      "source": [
        "# Defining the matrix M\n",
        "r = int(input(\"Enter the number of rows: \"))\n",
        "c = int(input(\"Enter the number of columns: \"))\n",
        "\n",
        "# if r != c:\n",
        "#   raise ValueError('If the matrix M is not square, then it cannot be factorized using traditional matrix factorization techniques such as SVD or QR decomposition.')\n",
        "\n",
        "A = [[int(input('Please Input the number for position ({},{}): '.format(x, y))) for x in range(c)] for y in range(r)]\n",
        "M = np.array(A).reshape(r, c)"
      ],
      "metadata": {
        "colab": {
          "base_uri": "https://localhost:8080/"
        },
        "id": "4V8EoW0JUxhS",
        "outputId": "545e30d6-9663-4692-93b0-6b78da2d98ba"
      },
      "execution_count": null,
      "outputs": [
        {
          "name": "stdout",
          "output_type": "stream",
          "text": [
            "Enter the number of rows: 3\n",
            "Enter the number of columns: 2\n",
            "Please Input the number for position (0,0): 1\n",
            "Please Input the number for position (1,0): 2\n",
            "Please Input the number for position (0,1): 3\n",
            "Please Input the number for position (1,1): 4\n",
            "Please Input the number for position (0,2): 5\n",
            "Please Input the number for position (1,2): 6\n"
          ]
        }
      ]
    },
    {
      "cell_type": "code",
      "source": [
        "M1, M2 = matrix_factorization(M, 2)\n",
        "\n",
        "print('M1 Value is: ',M1)\n",
        "print('M2 Value is: ',M2)"
      ],
      "metadata": {
        "colab": {
          "base_uri": "https://localhost:8080/"
        },
        "id": "nsFSws79U2Qr",
        "outputId": "30290fff-b8d9-41eb-a46e-6ee53ad37434"
      },
      "execution_count": null,
      "outputs": [
        {
          "output_type": "stream",
          "name": "stdout",
          "text": [
            "M1 Value is:  [array([0.02852658, 1.12010854]), array([0.25433881, 0.72402509]), array([0.48015103, 0.32794163])]\n",
            "M2 Value is:  [array([9.97717715, 0.63867495]), array([11.47616967,  1.49326969])]\n"
          ]
        }
      ]
    }
  ]
}